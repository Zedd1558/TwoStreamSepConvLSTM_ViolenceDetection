{
  "nbformat": 4,
  "nbformat_minor": 0,
  "metadata": {
    "accelerator": "GPU",
    "colab": {
      "name": "hockey_movies",
      "provenance": [],
      "collapsed_sections": [],
      "machine_shape": "hm"
    },
    "kernelspec": {
      "display_name": "Python 3",
      "name": "python3"
    }
  },
  "cells": [
    {
      "cell_type": "code",
      "metadata": {
        "id": "Q09u9Zjv0rqV"
      },
      "source": [
        "# check gpu\n",
        "from tensorflow.python.client import device_lib\n",
        "device_lib.list_local_devices()"
      ],
      "execution_count": null,
      "outputs": []
    },
    {
      "cell_type": "code",
      "metadata": {
        "id": "4mV0vXSfKg3Q",
        "colab": {
          "base_uri": "https://localhost:8080/"
        },
        "outputId": "67732464-9ce8-4170-8bfc-29f3a11f804d"
      },
      "source": [
        "from google.colab import drive\n",
        "drive.mount('/gdrive')"
      ],
      "execution_count": null,
      "outputs": [
        {
          "output_type": "stream",
          "text": [
            "Mounted at /gdrive\n"
          ],
          "name": "stdout"
        }
      ]
    },
    {
      "cell_type": "code",
      "metadata": {
        "id": "1lEuU0dpkY75"
      },
      "source": [
        "from IPython.display import clear_output\n",
        "!rm -rf sample_data\n",
        "print('copying violence detection codes')\n",
        "!cp -r /gdrive/MyDrive/THESIS/Data/violenceDetection /content\n",
        "!pip install -r /content/violenceDetection/requirements.txt\n",
        "clear_output()"
      ],
      "execution_count": null,
      "outputs": []
    },
    {
      "cell_type": "code",
      "metadata": {
        "id": "jGCoIxgzPeuj"
      },
      "source": [
        "import os\r\n",
        "os.chdir('/content/violenceDetection')\r\n",
        "!tar xvf /gdrive/MyDrive/THESIS/Data/data/hockeyMoviesProcessed.tar"
      ],
      "execution_count": null,
      "outputs": []
    },
    {
      "cell_type": "code",
      "metadata": {
        "colab": {
          "base_uri": "https://localhost:8080/"
        },
        "id": "zz63L1mcyf4A",
        "outputId": "2182a584-8033-417c-b2d9-f2e1ede39792"
      },
      "source": [
        "import os \r\n",
        "os.chdir('/content/violenceDetection')\r\n",
        "!python train.py --dataset hockey --numEpochs 50 --lstmType sepeconv"
      ],
      "execution_count": null,
      "outputs": [
        {
          "output_type": "stream",
          "text": [
            "2020-12-26 09:06:51.085599: I tensorflow/stream_executor/platform/default/dso_loader.cc:48] Successfully opened dynamic library libcudart.so.10.1\n",
            "Found 800 files belonging to 2 classes.\n",
            "     fight :  0\n",
            "  nonFight :  1\n",
            "Found 200 files belonging to 2 classes.\n",
            "     fight :  0\n",
            "  nonFight :  1\n",
            "> cnn_trainable :  True\n",
            "> creating new model...\n",
            "cnn_trainable: True\n",
            "cnn dropout :  0.25\n",
            "dense dropout :  0.3\n",
            "lstm dropout : 0.25\n",
            "2020-12-26 09:06:57.888633: I tensorflow/stream_executor/platform/default/dso_loader.cc:48] Successfully opened dynamic library libcuda.so.1\n",
            "2020-12-26 09:06:57.938429: I tensorflow/stream_executor/cuda/cuda_gpu_executor.cc:982] successful NUMA node read from SysFS had negative value (-1), but there must be at least one NUMA node, so returning NUMA node zero\n",
            "2020-12-26 09:06:57.939103: I tensorflow/core/common_runtime/gpu/gpu_device.cc:1716] Found device 0 with properties: \n",
            "pciBusID: 0000:00:04.0 name: Tesla P100-PCIE-16GB computeCapability: 6.0\n",
            "coreClock: 1.3285GHz coreCount: 56 deviceMemorySize: 15.90GiB deviceMemoryBandwidth: 681.88GiB/s\n",
            "2020-12-26 09:06:57.939147: I tensorflow/stream_executor/platform/default/dso_loader.cc:48] Successfully opened dynamic library libcudart.so.10.1\n",
            "2020-12-26 09:06:58.191060: I tensorflow/stream_executor/platform/default/dso_loader.cc:48] Successfully opened dynamic library libcublas.so.10\n",
            "2020-12-26 09:06:58.337241: I tensorflow/stream_executor/platform/default/dso_loader.cc:48] Successfully opened dynamic library libcufft.so.10\n",
            "2020-12-26 09:06:58.355329: I tensorflow/stream_executor/platform/default/dso_loader.cc:48] Successfully opened dynamic library libcurand.so.10\n",
            "2020-12-26 09:06:58.643928: I tensorflow/stream_executor/platform/default/dso_loader.cc:48] Successfully opened dynamic library libcusolver.so.10\n",
            "2020-12-26 09:06:58.662444: I tensorflow/stream_executor/platform/default/dso_loader.cc:48] Successfully opened dynamic library libcusparse.so.10\n",
            "2020-12-26 09:06:59.226192: I tensorflow/stream_executor/platform/default/dso_loader.cc:48] Successfully opened dynamic library libcudnn.so.7\n",
            "2020-12-26 09:06:59.226462: I tensorflow/stream_executor/cuda/cuda_gpu_executor.cc:982] successful NUMA node read from SysFS had negative value (-1), but there must be at least one NUMA node, so returning NUMA node zero\n",
            "2020-12-26 09:06:59.227222: I tensorflow/stream_executor/cuda/cuda_gpu_executor.cc:982] successful NUMA node read from SysFS had negative value (-1), but there must be at least one NUMA node, so returning NUMA node zero\n",
            "2020-12-26 09:06:59.227783: I tensorflow/core/common_runtime/gpu/gpu_device.cc:1858] Adding visible gpu devices: 0\n",
            "2020-12-26 09:06:59.228136: I tensorflow/core/platform/cpu_feature_guard.cc:142] This TensorFlow binary is optimized with oneAPI Deep Neural Network Library (oneDNN)to use the following CPU instructions in performance-critical operations:  AVX2 FMA\n",
            "To enable them in other operations, rebuild TensorFlow with the appropriate compiler flags.\n",
            "2020-12-26 09:06:59.258382: I tensorflow/core/platform/profile_utils/cpu_utils.cc:104] CPU Frequency: 2200000000 Hz\n",
            "2020-12-26 09:06:59.258830: I tensorflow/compiler/xla/service/service.cc:168] XLA service 0x1616d80 initialized for platform Host (this does not guarantee that XLA will be used). Devices:\n",
            "2020-12-26 09:06:59.258869: I tensorflow/compiler/xla/service/service.cc:176]   StreamExecutor device (0): Host, Default Version\n",
            "2020-12-26 09:06:59.398578: I tensorflow/stream_executor/cuda/cuda_gpu_executor.cc:982] successful NUMA node read from SysFS had negative value (-1), but there must be at least one NUMA node, so returning NUMA node zero\n",
            "2020-12-26 09:06:59.399434: I tensorflow/compiler/xla/service/service.cc:168] XLA service 0x1616bc0 initialized for platform CUDA (this does not guarantee that XLA will be used). Devices:\n",
            "2020-12-26 09:06:59.399463: I tensorflow/compiler/xla/service/service.cc:176]   StreamExecutor device (0): Tesla P100-PCIE-16GB, Compute Capability 6.0\n",
            "2020-12-26 09:06:59.400077: I tensorflow/stream_executor/cuda/cuda_gpu_executor.cc:982] successful NUMA node read from SysFS had negative value (-1), but there must be at least one NUMA node, so returning NUMA node zero\n",
            "2020-12-26 09:06:59.400595: I tensorflow/core/common_runtime/gpu/gpu_device.cc:1716] Found device 0 with properties: \n",
            "pciBusID: 0000:00:04.0 name: Tesla P100-PCIE-16GB computeCapability: 6.0\n",
            "coreClock: 1.3285GHz coreCount: 56 deviceMemorySize: 15.90GiB deviceMemoryBandwidth: 681.88GiB/s\n",
            "2020-12-26 09:06:59.400633: I tensorflow/stream_executor/platform/default/dso_loader.cc:48] Successfully opened dynamic library libcudart.so.10.1\n",
            "2020-12-26 09:06:59.400675: I tensorflow/stream_executor/platform/default/dso_loader.cc:48] Successfully opened dynamic library libcublas.so.10\n",
            "2020-12-26 09:06:59.400694: I tensorflow/stream_executor/platform/default/dso_loader.cc:48] Successfully opened dynamic library libcufft.so.10\n",
            "2020-12-26 09:06:59.400706: I tensorflow/stream_executor/platform/default/dso_loader.cc:48] Successfully opened dynamic library libcurand.so.10\n",
            "2020-12-26 09:06:59.400717: I tensorflow/stream_executor/platform/default/dso_loader.cc:48] Successfully opened dynamic library libcusolver.so.10\n",
            "2020-12-26 09:06:59.400733: I tensorflow/stream_executor/platform/default/dso_loader.cc:48] Successfully opened dynamic library libcusparse.so.10\n",
            "2020-12-26 09:06:59.400751: I tensorflow/stream_executor/platform/default/dso_loader.cc:48] Successfully opened dynamic library libcudnn.so.7\n",
            "2020-12-26 09:06:59.400806: I tensorflow/stream_executor/cuda/cuda_gpu_executor.cc:982] successful NUMA node read from SysFS had negative value (-1), but there must be at least one NUMA node, so returning NUMA node zero\n",
            "2020-12-26 09:06:59.401418: I tensorflow/stream_executor/cuda/cuda_gpu_executor.cc:982] successful NUMA node read from SysFS had negative value (-1), but there must be at least one NUMA node, so returning NUMA node zero\n",
            "2020-12-26 09:06:59.401930: I tensorflow/core/common_runtime/gpu/gpu_device.cc:1858] Adding visible gpu devices: 0\n",
            "2020-12-26 09:06:59.406230: I tensorflow/stream_executor/platform/default/dso_loader.cc:48] Successfully opened dynamic library libcudart.so.10.1\n",
            "2020-12-26 09:07:02.743866: I tensorflow/core/common_runtime/gpu/gpu_device.cc:1257] Device interconnect StreamExecutor with strength 1 edge matrix:\n",
            "2020-12-26 09:07:02.743944: I tensorflow/core/common_runtime/gpu/gpu_device.cc:1263]      0 \n",
            "2020-12-26 09:07:02.743959: I tensorflow/core/common_runtime/gpu/gpu_device.cc:1276] 0:   N \n",
            "2020-12-26 09:07:02.749283: I tensorflow/stream_executor/cuda/cuda_gpu_executor.cc:982] successful NUMA node read from SysFS had negative value (-1), but there must be at least one NUMA node, so returning NUMA node zero\n",
            "2020-12-26 09:07:02.750007: I tensorflow/stream_executor/cuda/cuda_gpu_executor.cc:982] successful NUMA node read from SysFS had negative value (-1), but there must be at least one NUMA node, so returning NUMA node zero\n",
            "2020-12-26 09:07:02.750575: W tensorflow/core/common_runtime/gpu/gpu_bfc_allocator.cc:39] Overriding allow_growth setting because the TF_FORCE_GPU_ALLOW_GROWTH environment variable is set. Original config value was 0.\n",
            "2020-12-26 09:07:02.750625: I tensorflow/core/common_runtime/gpu/gpu_device.cc:1402] Created TensorFlow device (/job:localhost/replica:0/task:0/device:GPU:0 with 14951 MB memory) -> physical GPU (device: 0, name: Tesla P100-PCIE-16GB, pci bus id: 0000:00:04.0, compute capability: 6.0)\n",
            "> loading weights pretrained on rwf dataset from /gdrive/MyDrive/THESIS/Data/pretrainedModels/sepConvLSTM frame back suppress _ frame diff_89.25/rwf2000_best_val_acc_Model\n",
            "> new model created\n",
            "> Summary of the model : \n",
            "Model: \"functional_5\"\n",
            "____________________________________________________________________________________________________________________________________________\n",
            "Layer (type)                                  Output Shape                   Param #         Connected to                                   \n",
            "============================================================================================================================================\n",
            "frames_input (InputLayer)                     [(None, 32, 224, 224, 3)]      0                                                              \n",
            "____________________________________________________________________________________________________________________________________________\n",
            "frames_diff_input (InputLayer)                [(None, 31, 224, 224, 3)]      0                                                              \n",
            "____________________________________________________________________________________________________________________________________________\n",
            "frames_CNN (TimeDistributed)                  (None, 32, 7, 7, 56)           111984          frames_input[0][0]                             \n",
            "____________________________________________________________________________________________________________________________________________\n",
            "frames_diff_CNN (TimeDistributed)             (None, 31, 7, 7, 56)           111984          frames_diff_input[0][0]                        \n",
            "____________________________________________________________________________________________________________________________________________\n",
            "leaky_relu_1_ (TimeDistributed)               (None, 32, 7, 7, 56)           0               frames_CNN[0][0]                               \n",
            "____________________________________________________________________________________________________________________________________________\n",
            "leaky_relu_2_ (TimeDistributed)               (None, 31, 7, 7, 56)           0               frames_diff_CNN[0][0]                          \n",
            "____________________________________________________________________________________________________________________________________________\n",
            "dropout_1_ (TimeDistributed)                  (None, 32, 7, 7, 56)           0               leaky_relu_1_[0][0]                            \n",
            "____________________________________________________________________________________________________________________________________________\n",
            "dropout_2_ (TimeDistributed)                  (None, 31, 7, 7, 56)           0               leaky_relu_2_[0][0]                            \n",
            "____________________________________________________________________________________________________________________________________________\n",
            "SepConvLSTM2D_1 (SepConvLSTM2D)               (None, 7, 7, 64)               35296           dropout_1_[0][0]                               \n",
            "____________________________________________________________________________________________________________________________________________\n",
            "SepConvLSTM2D_2 (SepConvLSTM2D)               (None, 7, 7, 64)               35296           dropout_2_[0][0]                               \n",
            "____________________________________________________________________________________________________________________________________________\n",
            "batch_normalization (BatchNormalization)      (None, 7, 7, 64)               256             SepConvLSTM2D_1[0][0]                          \n",
            "____________________________________________________________________________________________________________________________________________\n",
            "batch_normalization_1 (BatchNormalization)    (None, 7, 7, 64)               256             SepConvLSTM2D_2[0][0]                          \n",
            "____________________________________________________________________________________________________________________________________________\n",
            "max_pooling2d (MaxPooling2D)                  (None, 3, 3, 64)               0               batch_normalization[0][0]                      \n",
            "____________________________________________________________________________________________________________________________________________\n",
            "max_pooling2d_1 (MaxPooling2D)                (None, 3, 3, 64)               0               batch_normalization_1[0][0]                    \n",
            "____________________________________________________________________________________________________________________________________________\n",
            "flatten (Flatten)                             (None, 576)                    0               max_pooling2d[0][0]                            \n",
            "____________________________________________________________________________________________________________________________________________\n",
            "flatten_1 (Flatten)                           (None, 576)                    0               max_pooling2d_1[0][0]                          \n",
            "____________________________________________________________________________________________________________________________________________\n",
            "dense (Dense)                                 (None, 64)                     36928           flatten[0][0]                                  \n",
            "____________________________________________________________________________________________________________________________________________\n",
            "dense_1 (Dense)                               (None, 64)                     36928           flatten_1[0][0]                                \n",
            "____________________________________________________________________________________________________________________________________________\n",
            "leaky_re_lu_2 (LeakyReLU)                     (None, 64)                     0               dense[0][0]                                    \n",
            "____________________________________________________________________________________________________________________________________________\n",
            "leaky_re_lu_3 (LeakyReLU)                     (None, 64)                     0               dense_1[0][0]                                  \n",
            "____________________________________________________________________________________________________________________________________________\n",
            "concatenate (Concatenate)                     (None, 128)                    0               leaky_re_lu_2[0][0]                            \n",
            "                                                                                             leaky_re_lu_3[0][0]                            \n",
            "____________________________________________________________________________________________________________________________________________\n",
            "dropout_2 (Dropout)                           (None, 128)                    0               concatenate[0][0]                              \n",
            "____________________________________________________________________________________________________________________________________________\n",
            "dense_2 (Dense)                               (None, 16)                     2064            dropout_2[0][0]                                \n",
            "____________________________________________________________________________________________________________________________________________\n",
            "leaky_re_lu_4 (LeakyReLU)                     (None, 16)                     0               dense_2[0][0]                                  \n",
            "____________________________________________________________________________________________________________________________________________\n",
            "dropout_3 (Dropout)                           (None, 16)                     0               leaky_re_lu_4[0][0]                            \n",
            "____________________________________________________________________________________________________________________________________________\n",
            "dense_3 (Dense)                               (None, 1)                      17              dropout_3[0][0]                                \n",
            "============================================================================================================================================\n",
            "Total params: 371,009\n",
            "Trainable params: 356,673\n",
            "Non-trainable params: 14,336\n",
            "____________________________________________________________________________________________________________________________________________\n",
            "> Optimizer :  {'name': 'Adam', 'learning_rate': 1e-06, 'decay': 0.0, 'beta_1': 0.9, 'beta_2': 0.999, 'epsilon': 1e-07, 'amsgrad': True}\n",
            "> plotting the model architecture and saving at  model_architecture.png\n",
            "Epoch 1/50\n",
            "2020-12-26 09:07:36.342547: I tensorflow/stream_executor/platform/default/dso_loader.cc:48] Successfully opened dynamic library libcublas.so.10\n",
            "2020-12-26 09:07:44.383987: I tensorflow/stream_executor/platform/default/dso_loader.cc:48] Successfully opened dynamic library libcudnn.so.7\n",
            " 21/200 [==>...........................] - ETA: 3:58 - loss: 0.9853 - acc: 0.6310"
          ],
          "name": "stdout"
        }
      ]
    },
    {
      "cell_type": "code",
      "metadata": {
        "id": "-YyH05y2Un5K"
      },
      "source": [
        "import os \r\n",
        "os.chdir('/content/violenceDetection')\r\n",
        "!python train.py --dataset hockey --resume --numEpochs 50 --lstmType sepeconv"
      ],
      "execution_count": null,
      "outputs": []
    },
    {
      "cell_type": "code",
      "metadata": {
        "colab": {
          "base_uri": "https://localhost:8080/"
        },
        "id": "Gr-hkwbiTjRS",
        "outputId": "4463535d-0764-4761-e8c7-1db244d61338"
      },
      "source": [
        "import os \r\n",
        "os.chdir('/content/violenceDetection')\r\n",
        "!python train.py --dataset movies --numEpochs 50 --lstmType sepconv"
      ],
      "execution_count": null,
      "outputs": [
        {
          "output_type": "stream",
          "text": [
            "2020-12-26 09:09:04.839734: I tensorflow/stream_executor/platform/default/dso_loader.cc:48] Successfully opened dynamic library libcudart.so.10.1\n",
            "Found 160 files belonging to 2 classes.\n",
            "     fight :  0\n",
            "  nonFight :  1\n",
            "Found 41 files belonging to 2 classes.\n",
            "     fight :  0\n",
            "  nonFight :  1\n",
            "> cnn_trainable :  True\n",
            "> creating new model...\n",
            "cnn_trainable: True\n",
            "cnn dropout :  0.25\n",
            "dense dropout :  0.3\n",
            "lstm dropout : 0.25\n",
            "2020-12-26 09:09:06.721143: I tensorflow/stream_executor/platform/default/dso_loader.cc:48] Successfully opened dynamic library libcuda.so.1\n",
            "2020-12-26 09:09:06.737709: I tensorflow/stream_executor/cuda/cuda_gpu_executor.cc:982] successful NUMA node read from SysFS had negative value (-1), but there must be at least one NUMA node, so returning NUMA node zero\n",
            "2020-12-26 09:09:06.738278: I tensorflow/core/common_runtime/gpu/gpu_device.cc:1716] Found device 0 with properties: \n",
            "pciBusID: 0000:00:04.0 name: Tesla P100-PCIE-16GB computeCapability: 6.0\n",
            "coreClock: 1.3285GHz coreCount: 56 deviceMemorySize: 15.90GiB deviceMemoryBandwidth: 681.88GiB/s\n",
            "2020-12-26 09:09:06.738308: I tensorflow/stream_executor/platform/default/dso_loader.cc:48] Successfully opened dynamic library libcudart.so.10.1\n",
            "2020-12-26 09:09:06.740374: I tensorflow/stream_executor/platform/default/dso_loader.cc:48] Successfully opened dynamic library libcublas.so.10\n",
            "2020-12-26 09:09:06.743990: I tensorflow/stream_executor/platform/default/dso_loader.cc:48] Successfully opened dynamic library libcufft.so.10\n",
            "2020-12-26 09:09:06.744341: I tensorflow/stream_executor/platform/default/dso_loader.cc:48] Successfully opened dynamic library libcurand.so.10\n",
            "2020-12-26 09:09:06.746340: I tensorflow/stream_executor/platform/default/dso_loader.cc:48] Successfully opened dynamic library libcusolver.so.10\n",
            "2020-12-26 09:09:06.753983: I tensorflow/stream_executor/platform/default/dso_loader.cc:48] Successfully opened dynamic library libcusparse.so.10\n",
            "2020-12-26 09:09:06.758041: I tensorflow/stream_executor/platform/default/dso_loader.cc:48] Successfully opened dynamic library libcudnn.so.7\n",
            "2020-12-26 09:09:06.758167: I tensorflow/stream_executor/cuda/cuda_gpu_executor.cc:982] successful NUMA node read from SysFS had negative value (-1), but there must be at least one NUMA node, so returning NUMA node zero\n",
            "2020-12-26 09:09:06.758728: I tensorflow/stream_executor/cuda/cuda_gpu_executor.cc:982] successful NUMA node read from SysFS had negative value (-1), but there must be at least one NUMA node, so returning NUMA node zero\n",
            "2020-12-26 09:09:06.759261: I tensorflow/core/common_runtime/gpu/gpu_device.cc:1858] Adding visible gpu devices: 0\n",
            "2020-12-26 09:09:06.759531: I tensorflow/core/platform/cpu_feature_guard.cc:142] This TensorFlow binary is optimized with oneAPI Deep Neural Network Library (oneDNN)to use the following CPU instructions in performance-critical operations:  AVX2 FMA\n",
            "To enable them in other operations, rebuild TensorFlow with the appropriate compiler flags.\n",
            "2020-12-26 09:09:06.764644: I tensorflow/core/platform/profile_utils/cpu_utils.cc:104] CPU Frequency: 2200000000 Hz\n",
            "2020-12-26 09:09:06.764908: I tensorflow/compiler/xla/service/service.cc:168] XLA service 0x13d0d80 initialized for platform Host (this does not guarantee that XLA will be used). Devices:\n",
            "2020-12-26 09:09:06.764933: I tensorflow/compiler/xla/service/service.cc:176]   StreamExecutor device (0): Host, Default Version\n",
            "2020-12-26 09:09:06.854010: I tensorflow/stream_executor/cuda/cuda_gpu_executor.cc:982] successful NUMA node read from SysFS had negative value (-1), but there must be at least one NUMA node, so returning NUMA node zero\n",
            "2020-12-26 09:09:06.854940: I tensorflow/compiler/xla/service/service.cc:168] XLA service 0x13d0bc0 initialized for platform CUDA (this does not guarantee that XLA will be used). Devices:\n",
            "2020-12-26 09:09:06.854970: I tensorflow/compiler/xla/service/service.cc:176]   StreamExecutor device (0): Tesla P100-PCIE-16GB, Compute Capability 6.0\n",
            "2020-12-26 09:09:06.855144: I tensorflow/stream_executor/cuda/cuda_gpu_executor.cc:982] successful NUMA node read from SysFS had negative value (-1), but there must be at least one NUMA node, so returning NUMA node zero\n",
            "2020-12-26 09:09:06.855750: I tensorflow/core/common_runtime/gpu/gpu_device.cc:1716] Found device 0 with properties: \n",
            "pciBusID: 0000:00:04.0 name: Tesla P100-PCIE-16GB computeCapability: 6.0\n",
            "coreClock: 1.3285GHz coreCount: 56 deviceMemorySize: 15.90GiB deviceMemoryBandwidth: 681.88GiB/s\n",
            "2020-12-26 09:09:06.855780: I tensorflow/stream_executor/platform/default/dso_loader.cc:48] Successfully opened dynamic library libcudart.so.10.1\n",
            "2020-12-26 09:09:06.855844: I tensorflow/stream_executor/platform/default/dso_loader.cc:48] Successfully opened dynamic library libcublas.so.10\n",
            "2020-12-26 09:09:06.855861: I tensorflow/stream_executor/platform/default/dso_loader.cc:48] Successfully opened dynamic library libcufft.so.10\n",
            "2020-12-26 09:09:06.855876: I tensorflow/stream_executor/platform/default/dso_loader.cc:48] Successfully opened dynamic library libcurand.so.10\n",
            "2020-12-26 09:09:06.855917: I tensorflow/stream_executor/platform/default/dso_loader.cc:48] Successfully opened dynamic library libcusolver.so.10\n",
            "2020-12-26 09:09:06.855939: I tensorflow/stream_executor/platform/default/dso_loader.cc:48] Successfully opened dynamic library libcusparse.so.10\n",
            "2020-12-26 09:09:06.855954: I tensorflow/stream_executor/platform/default/dso_loader.cc:48] Successfully opened dynamic library libcudnn.so.7\n",
            "2020-12-26 09:09:06.856018: I tensorflow/stream_executor/cuda/cuda_gpu_executor.cc:982] successful NUMA node read from SysFS had negative value (-1), but there must be at least one NUMA node, so returning NUMA node zero\n",
            "2020-12-26 09:09:06.856537: I tensorflow/stream_executor/cuda/cuda_gpu_executor.cc:982] successful NUMA node read from SysFS had negative value (-1), but there must be at least one NUMA node, so returning NUMA node zero\n",
            "2020-12-26 09:09:06.857024: I tensorflow/core/common_runtime/gpu/gpu_device.cc:1858] Adding visible gpu devices: 0\n",
            "2020-12-26 09:09:06.857066: I tensorflow/stream_executor/platform/default/dso_loader.cc:48] Successfully opened dynamic library libcudart.so.10.1\n",
            "2020-12-26 09:09:07.527117: I tensorflow/core/common_runtime/gpu/gpu_device.cc:1257] Device interconnect StreamExecutor with strength 1 edge matrix:\n",
            "2020-12-26 09:09:07.527175: I tensorflow/core/common_runtime/gpu/gpu_device.cc:1263]      0 \n",
            "2020-12-26 09:09:07.527188: I tensorflow/core/common_runtime/gpu/gpu_device.cc:1276] 0:   N \n",
            "2020-12-26 09:09:07.527390: I tensorflow/stream_executor/cuda/cuda_gpu_executor.cc:982] successful NUMA node read from SysFS had negative value (-1), but there must be at least one NUMA node, so returning NUMA node zero\n",
            "2020-12-26 09:09:07.528034: I tensorflow/stream_executor/cuda/cuda_gpu_executor.cc:982] successful NUMA node read from SysFS had negative value (-1), but there must be at least one NUMA node, so returning NUMA node zero\n",
            "2020-12-26 09:09:07.528562: W tensorflow/core/common_runtime/gpu/gpu_bfc_allocator.cc:39] Overriding allow_growth setting because the TF_FORCE_GPU_ALLOW_GROWTH environment variable is set. Original config value was 0.\n",
            "2020-12-26 09:09:07.528603: I tensorflow/core/common_runtime/gpu/gpu_device.cc:1402] Created TensorFlow device (/job:localhost/replica:0/task:0/device:GPU:0 with 14951 MB memory) -> physical GPU (device: 0, name: Tesla P100-PCIE-16GB, pci bus id: 0000:00:04.0, compute capability: 6.0)\n",
            "> loading weights pretrained on rwf dataset from /gdrive/MyDrive/THESIS/Data/pretrainedModels/sepConvLSTM frame back suppress _ frame diff_89.25/rwf2000_best_val_acc_Model\n",
            "> new model created\n",
            "> Summary of the model : \n",
            "Model: \"functional_5\"\n",
            "____________________________________________________________________________________________________________________________________________\n",
            "Layer (type)                                  Output Shape                   Param #         Connected to                                   \n",
            "============================================================================================================================================\n",
            "frames_input (InputLayer)                     [(None, 32, 224, 224, 3)]      0                                                              \n",
            "____________________________________________________________________________________________________________________________________________\n",
            "frames_diff_input (InputLayer)                [(None, 31, 224, 224, 3)]      0                                                              \n",
            "____________________________________________________________________________________________________________________________________________\n",
            "frames_CNN (TimeDistributed)                  (None, 32, 7, 7, 56)           111984          frames_input[0][0]                             \n",
            "____________________________________________________________________________________________________________________________________________\n",
            "frames_diff_CNN (TimeDistributed)             (None, 31, 7, 7, 56)           111984          frames_diff_input[0][0]                        \n",
            "____________________________________________________________________________________________________________________________________________\n",
            "leaky_relu_1_ (TimeDistributed)               (None, 32, 7, 7, 56)           0               frames_CNN[0][0]                               \n",
            "____________________________________________________________________________________________________________________________________________\n",
            "leaky_relu_2_ (TimeDistributed)               (None, 31, 7, 7, 56)           0               frames_diff_CNN[0][0]                          \n",
            "____________________________________________________________________________________________________________________________________________\n",
            "dropout_1_ (TimeDistributed)                  (None, 32, 7, 7, 56)           0               leaky_relu_1_[0][0]                            \n",
            "____________________________________________________________________________________________________________________________________________\n",
            "dropout_2_ (TimeDistributed)                  (None, 31, 7, 7, 56)           0               leaky_relu_2_[0][0]                            \n",
            "____________________________________________________________________________________________________________________________________________\n",
            "SepConvLSTM2D_1 (SepConvLSTM2D)               (None, 7, 7, 64)               35296           dropout_1_[0][0]                               \n",
            "____________________________________________________________________________________________________________________________________________\n",
            "SepConvLSTM2D_2 (SepConvLSTM2D)               (None, 7, 7, 64)               35296           dropout_2_[0][0]                               \n",
            "____________________________________________________________________________________________________________________________________________\n",
            "batch_normalization (BatchNormalization)      (None, 7, 7, 64)               256             SepConvLSTM2D_1[0][0]                          \n",
            "____________________________________________________________________________________________________________________________________________\n",
            "batch_normalization_1 (BatchNormalization)    (None, 7, 7, 64)               256             SepConvLSTM2D_2[0][0]                          \n",
            "____________________________________________________________________________________________________________________________________________\n",
            "max_pooling2d (MaxPooling2D)                  (None, 3, 3, 64)               0               batch_normalization[0][0]                      \n",
            "____________________________________________________________________________________________________________________________________________\n",
            "max_pooling2d_1 (MaxPooling2D)                (None, 3, 3, 64)               0               batch_normalization_1[0][0]                    \n",
            "____________________________________________________________________________________________________________________________________________\n",
            "flatten (Flatten)                             (None, 576)                    0               max_pooling2d[0][0]                            \n",
            "____________________________________________________________________________________________________________________________________________\n",
            "flatten_1 (Flatten)                           (None, 576)                    0               max_pooling2d_1[0][0]                          \n",
            "____________________________________________________________________________________________________________________________________________\n",
            "dense (Dense)                                 (None, 64)                     36928           flatten[0][0]                                  \n",
            "____________________________________________________________________________________________________________________________________________\n",
            "dense_1 (Dense)                               (None, 64)                     36928           flatten_1[0][0]                                \n",
            "____________________________________________________________________________________________________________________________________________\n",
            "leaky_re_lu_2 (LeakyReLU)                     (None, 64)                     0               dense[0][0]                                    \n",
            "____________________________________________________________________________________________________________________________________________\n",
            "leaky_re_lu_3 (LeakyReLU)                     (None, 64)                     0               dense_1[0][0]                                  \n",
            "____________________________________________________________________________________________________________________________________________\n",
            "concatenate (Concatenate)                     (None, 128)                    0               leaky_re_lu_2[0][0]                            \n",
            "                                                                                             leaky_re_lu_3[0][0]                            \n",
            "____________________________________________________________________________________________________________________________________________\n",
            "dropout_2 (Dropout)                           (None, 128)                    0               concatenate[0][0]                              \n",
            "____________________________________________________________________________________________________________________________________________\n",
            "dense_2 (Dense)                               (None, 16)                     2064            dropout_2[0][0]                                \n",
            "____________________________________________________________________________________________________________________________________________\n",
            "leaky_re_lu_4 (LeakyReLU)                     (None, 16)                     0               dense_2[0][0]                                  \n",
            "____________________________________________________________________________________________________________________________________________\n",
            "dropout_3 (Dropout)                           (None, 16)                     0               leaky_re_lu_4[0][0]                            \n",
            "____________________________________________________________________________________________________________________________________________\n",
            "dense_3 (Dense)                               (None, 1)                      17              dropout_3[0][0]                                \n",
            "============================================================================================================================================\n",
            "Total params: 371,009\n",
            "Trainable params: 356,673\n",
            "Non-trainable params: 14,336\n",
            "____________________________________________________________________________________________________________________________________________\n",
            "> Optimizer :  {'name': 'Adam', 'learning_rate': 1e-05, 'decay': 0.0, 'beta_1': 0.9, 'beta_2': 0.999, 'epsilon': 1e-07, 'amsgrad': True}\n",
            "> plotting the model architecture and saving at  model_architecture.png\n",
            "Epoch 1/50\n",
            "2020-12-26 09:09:35.355265: I tensorflow/stream_executor/platform/default/dso_loader.cc:48] Successfully opened dynamic library libcublas.so.10\n",
            "2020-12-26 09:09:43.358570: I tensorflow/stream_executor/platform/default/dso_loader.cc:48] Successfully opened dynamic library libcudnn.so.7\n",
            "15/40 [==========>...................] - ETA: 32s - loss: 0.4906 - acc: 0.7667"
          ],
          "name": "stdout"
        }
      ]
    },
    {
      "cell_type": "code",
      "metadata": {
        "id": "6ryf7_RNUsEJ"
      },
      "source": [
        "import os \r\n",
        "os.chdir('/content/violenceDetection')\r\n",
        "!python train.py --dataset movies --resume --numEpochs 50 --lstmType sepconv"
      ],
      "execution_count": null,
      "outputs": []
    },
    {
      "cell_type": "code",
      "metadata": {
        "id": "oY7CbJ1nUuUp"
      },
      "source": [
        "import os \r\n",
        "os.chdir('/content/violenceDetection')\r\n",
        "!python train.py --dataset hockey --numEpochs 50 --lstmType asepconv"
      ],
      "execution_count": null,
      "outputs": []
    },
    {
      "cell_type": "code",
      "metadata": {
        "id": "PhJGbHkNUy24"
      },
      "source": [
        "import os \r\n",
        "os.chdir('/content/violenceDetection')\r\n",
        "!python train.py --dataset movies --resume --numEpochs 50 --lstmType asepconv"
      ],
      "execution_count": null,
      "outputs": []
    },
    {
      "cell_type": "code",
      "metadata": {
        "id": "rtdwQwihzl9F"
      },
      "source": [
        "####################################################################"
      ],
      "execution_count": null,
      "outputs": []
    }
  ]
}